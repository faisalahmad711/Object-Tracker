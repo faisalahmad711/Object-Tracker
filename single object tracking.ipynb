{
 "cells": [
  {
   "cell_type": "code",
   "execution_count": 21,
   "metadata": {},
   "outputs": [],
   "source": [
    "import cv2"
   ]
  },
  {
   "cell_type": "code",
   "execution_count": 22,
   "metadata": {},
   "outputs": [],
   "source": [
    "def ask_for_tracker():\n",
    "    print('choose your tracker')\n",
    "    choice = input('select your tracker: ')\n",
    "    if choice == '0':\n",
    "        tracker = cv2.TrackerBoosting_create()\n",
    "    elif choice == '1':\n",
    "        tracker = cv2.TrackerMIL_create()\n",
    "    elif choice == '2':\n",
    "        tracker = cv2.TrackerKCF_create()\n",
    "    elif choice == '3':\n",
    "        tracker = cv2.TrackerTLD_create()\n",
    "    elif choice == '4':\n",
    "        tracker = cv2.TrackerMedianFlow_create()\n",
    "    elif choice == '5':\n",
    "        tracker = cv2.TrackerGOTURN_create()\n",
    "    elif choice == '6':\n",
    "        tracker = cv2.TrackerMOOSE_create()\n",
    "    elif choice == '7':\n",
    "        tracker = cv2.TrackerCSRT_create()\n",
    "    return tracker"
   ]
  },
  {
   "cell_type": "code",
   "execution_count": 23,
   "metadata": {},
   "outputs": [
    {
     "name": "stdout",
     "output_type": "stream",
     "text": [
      "choose your tracker\n",
      "select your tracker: 7\n",
      "TrackerCSRT\n"
     ]
    }
   ],
   "source": [
    "tracker = ask_for_tracker()\n",
    "\n",
    "tracker_name = str(tracker).split()[0][1:]\n",
    "print(tracker_name)"
   ]
  },
  {
   "cell_type": "code",
   "execution_count": 24,
   "metadata": {},
   "outputs": [],
   "source": [
    "cap = cv2.VideoCapture(0)\n",
    "\n",
    "ret, frame = cap.read()\n",
    "\n",
    "roi = cv2.selectROI(frame, False)\n",
    "\n",
    "ret = tracker.init(frame, roi)\n",
    "\n",
    "while True:\n",
    "    ret, frame = cap.read()\n",
    "    success, roi = tracker.update(frame)\n",
    "    \n",
    "    (x,y,w,h) = tuple(map(int, roi))\n",
    "    \n",
    "    if success:\n",
    "        pts1 = (x,y)\n",
    "        pts2 = (x+w,y+h)\n",
    "        cv2.rectangle(frame,\n",
    "                     pts1,\n",
    "                     pts2,\n",
    "                     (255, 125, 25),\n",
    "                     3)\n",
    "    else:\n",
    "        cv2.putText(frame,\n",
    "                   'Fail to track the object',\n",
    "                   (100,200),\n",
    "                   cv2.FONT_HERSHEY_SIMPLEX,\n",
    "                   1,\n",
    "                   (25,125,255),\n",
    "                   3)\n",
    "    cv2.putText(frame,\n",
    "               tracker_name,\n",
    "               (20,400),\n",
    "               cv2.FONT_HERSHEY_SIMPLEX,\n",
    "               1,\n",
    "               (255, 255, 0),\n",
    "               3)\n",
    "    cv2.imshow(tracker_name,frame)\n",
    "    \n",
    "    if cv2.waitKey(50) & 0xFF == 27:\n",
    "        break\n",
    "        \n",
    "cap.release()\n",
    "cv2.destroyAllWindows()"
   ]
  },
  {
   "cell_type": "code",
   "execution_count": null,
   "metadata": {},
   "outputs": [],
   "source": []
  }
 ],
 "metadata": {
  "kernelspec": {
   "display_name": "Python 3",
   "language": "python",
   "name": "python3"
  },
  "language_info": {
   "codemirror_mode": {
    "name": "ipython",
    "version": 3
   },
   "file_extension": ".py",
   "mimetype": "text/x-python",
   "name": "python",
   "nbconvert_exporter": "python",
   "pygments_lexer": "ipython3",
   "version": "3.8.3"
  }
 },
 "nbformat": 4,
 "nbformat_minor": 4
}
